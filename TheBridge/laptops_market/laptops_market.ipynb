{
 "cells": [
  {
   "cell_type": "markdown",
   "metadata": {},
   "source": [
    "# Laptops market 💻\n",
    "# Precio Portátiles 💻\n",
    "## Veamos cómo de buenos somos prediciendo el valor de los productos."
   ]
  },
  {
   "cell_type": "markdown",
   "metadata": {},
   "source": [
    "### Overview\n",
    "Nuestro jefe estaba buscando un@s maquinas para obtener datos de la competencia y poder aplicarle los conocimientos obtenidos para asignar precios a nuestra tienda de \"MERIMARKT\".\n",
    "Lamentablemente se habían ido de vacaciones y nos lo ha pedido a nosotr@s …\n",
    "💥🪓🔪\n",
    "\n",
    "Nos toca arremangarnos las mangas y aplicar los conocimientos obtenidos en ML para obtener un modelo de predicción de precios de portátiles en función de sus marcas y prestaciones para poder lanzarlos a un precio competitivo al mercado."
   ]
  },
  {
   "cell_type": "markdown",
   "metadata": {},
   "source": [
    "### Evaluation\n",
    "En esta tarea, utilizaremos el error absoluto medio (MAE) para evaluar la eficacia del modelo."
   ]
  }
 ],
 "metadata": {
  "language_info": {
   "name": "python"
  }
 },
 "nbformat": 4,
 "nbformat_minor": 2
}
