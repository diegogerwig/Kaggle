{
 "cells": [
  {
   "cell_type": "markdown",
   "metadata": {},
   "source": [
    "en el modulo basepc hemos creado un objeto para limpiar los datas mas rapidamente. lo utilizamos a continuacios"
   ]
  },
  {
   "cell_type": "code",
   "execution_count": null,
   "metadata": {},
   "outputs": [],
   "source": [
    "from basepc import *\n",
    "\n",
    "from sklearn.model_selection import train_test_split, RandomizedSearchCV, GridSearchCV\n",
    "from catboost import CatBoostRegressor\n",
    "from sklearn.metrics import mean_absolute_error\n",
    "import xgboost\n",
    "from sklearn.linear_model import LinearRegression\n",
    "from sklearn.ensemble import GradientBoostingRegressor\n",
    "from sklearn.ensemble import RandomForestRegressor"
   ]
  },
  {
   "cell_type": "code",
   "execution_count": null,
   "metadata": {},
   "outputs": [],
   "source": [
    "train_set = pd.read_csv('./data/train.csv').drop(['laptop_ID'], axis= 1)\n",
    "test_set = pd.read_csv('./data/test.csv').drop(['laptop_ID'], axis= 1)"
   ]
  },
  {
   "cell_type": "code",
   "execution_count": null,
   "metadata": {},
   "outputs": [],
   "source": [
    "limpiador_train = Cleaner(train_set, target= 'Price_euros')"
   ]
  },
  {
   "cell_type": "code",
   "execution_count": null,
   "metadata": {},
   "outputs": [],
   "source": [
    "limpiador_train.clean_all()"
   ]
  },
  {
   "cell_type": "code",
   "execution_count": null,
   "metadata": {},
   "outputs": [],
   "source": [
    "limpiador_test = Cleaner(test_set, test= True)"
   ]
  },
  {
   "cell_type": "code",
   "execution_count": null,
   "metadata": {},
   "outputs": [],
   "source": [
    "limpiador_test.clean_all()"
   ]
  },
  {
   "cell_type": "markdown",
   "metadata": {},
   "source": [
    "el objeto tiene mas funciones, como representar la cardinalidad, quitar el target y alguno mas. \n",
    "\n",
    "de momento vamos a hacer los splits"
   ]
  },
  {
   "cell_type": "code",
   "execution_count": null,
   "metadata": {},
   "outputs": [],
   "source": [
    "train = limpiador_train.get_cleaned_train()\n",
    "test = limpiador_test.get_cleaned_train()"
   ]
  },
  {
   "cell_type": "code",
   "execution_count": null,
   "metadata": {},
   "outputs": [],
   "source": [
    "train_set, validation_set = train_test_split(train, test_size= 0.2, random_state= 42)"
   ]
  },
  {
   "cell_type": "code",
   "execution_count": null,
   "metadata": {},
   "outputs": [],
   "source": [
    "x_train = train_set.drop(['Price_euros', 'id'], axis= 1)\n",
    "y_train = train_set['Price_euros']\n",
    "\n",
    "x_validation = validation_set.drop(['Price_euros', 'id'], axis= 1)\n",
    "y_validation = validation_set['Price_euros']"
   ]
  },
  {
   "cell_type": "markdown",
   "metadata": {},
   "source": [
    "voy a normalizar el target para que el modelo tire mejor"
   ]
  },
  {
   "cell_type": "code",
   "execution_count": null,
   "metadata": {},
   "outputs": [],
   "source": [
    "sns.histplot(y_train)\n",
    "plt.show()"
   ]
  },
  {
   "cell_type": "code",
   "execution_count": null,
   "metadata": {},
   "outputs": [],
   "source": [
    "y_train = np.log10(y_train)\n",
    "\n",
    "sns.histplot(y_train)\n",
    "plt.show()"
   ]
  },
  {
   "cell_type": "markdown",
   "metadata": {},
   "source": [
    "## vamos a probar modelos"
   ]
  },
  {
   "cell_type": "markdown",
   "metadata": {},
   "source": [
    "catboost"
   ]
  },
  {
   "cell_type": "code",
   "execution_count": null,
   "metadata": {},
   "outputs": [],
   "source": [
    "model_catboost = CatBoostRegressor(random_state= 42)"
   ]
  },
  {
   "cell_type": "code",
   "execution_count": null,
   "metadata": {},
   "outputs": [],
   "source": [
    "model_catboost.fit(x_train, y_train, verbose= 0)\n",
    "\n",
    "y_pred = model_catboost.predict(x_validation)\n",
    "y_pred = np.power(10, y_pred) # devolvemos los valores reales a precio\n",
    "\n",
    "mean_absolute_error(y_validation, y_pred)"
   ]
  },
  {
   "cell_type": "code",
   "execution_count": null,
   "metadata": {},
   "outputs": [],
   "source": [
    "# vamos a tirar un test aqui para subirlo a kaggle\n",
    "\n",
    "y_pred = model_catboost.predict(test.drop(['id'], axis= 1))\n",
    "y_pred = np.power(10, y_pred) # devolvemos los valores reales a precio"
   ]
  },
  {
   "cell_type": "code",
   "execution_count": null,
   "metadata": {},
   "outputs": [],
   "source": [
    "test['Price_euros'] = y_pred\n",
    "submision = test[['id', 'Price_euros']]\n",
    "submision"
   ]
  },
  {
   "cell_type": "code",
   "execution_count": null,
   "metadata": {},
   "outputs": [],
   "source": [
    "submision.to_csv('submission.csv', index= False)"
   ]
  },
  {
   "cell_type": "markdown",
   "metadata": {},
   "source": [
    "xgboost"
   ]
  },
  {
   "cell_type": "code",
   "execution_count": null,
   "metadata": {},
   "outputs": [],
   "source": [
    "xgboost_model = xgboost.XGBRegressor()\n",
    "\n",
    "xgboost_model.fit(x_train, y_train)\n",
    "\n",
    "y_pred = xgboost_model.predict(x_validation)\n",
    "y_pred = np.power(10, y_pred) # devolvemos los valores reales a precio\n",
    "\n",
    "mean_absolute_error(y_validation, y_pred)"
   ]
  },
  {
   "cell_type": "markdown",
   "metadata": {},
   "source": [
    "linear regression"
   ]
  },
  {
   "cell_type": "code",
   "execution_count": null,
   "metadata": {},
   "outputs": [],
   "source": [
    "lineal_model = LinearRegression()\n",
    "\n",
    "lineal_model.fit(x_train, y_train)\n",
    "y_pred = lineal_model.predict(x_validation)\n",
    "y_pred = np.power(10, y_pred) # devolvemos los valores reales a precio\n",
    "\n",
    "mean_absolute_error(y_validation, y_pred)"
   ]
  },
  {
   "cell_type": "markdown",
   "metadata": {},
   "source": [
    "gradient regressor"
   ]
  },
  {
   "cell_type": "code",
   "execution_count": null,
   "metadata": {},
   "outputs": [],
   "source": [
    "gradient_model = GradientBoostingRegressor(random_state= 42)\n",
    "\n",
    "gradient_model.fit(x_train, y_train)\n",
    "\n",
    "y_pred = gradient_model.predict(x_validation)\n",
    "y_pred = np.power(10, y_pred) # devolvemos los valores reales a precio\n",
    "\n",
    "mean_absolute_error(y_validation, y_pred)"
   ]
  },
  {
   "cell_type": "markdown",
   "metadata": {},
   "source": [
    "random forest"
   ]
  },
  {
   "cell_type": "code",
   "execution_count": null,
   "metadata": {},
   "outputs": [],
   "source": [
    "forest = RandomForestRegressor(random_state= 42)\n",
    "\n",
    "modelo_forest = forest.fit(x_train, y_train)\n",
    "\n",
    "y_pred = modelo_forest.predict(x_validation)\n",
    "y_pred = np.power(10, y_pred) # devolvemos los valores reales a precio\n",
    "\n",
    "mean_absolute_error(y_validation, y_pred)"
   ]
  },
  {
   "cell_type": "markdown",
   "metadata": {},
   "source": [
    "## hiperparametros"
   ]
  },
  {
   "cell_type": "markdown",
   "metadata": {},
   "source": [
    "el modelo que mejor ha funcionado ha sido catboost asi que voy a estudiar los hiper con este"
   ]
  },
  {
   "cell_type": "code",
   "execution_count": null,
   "metadata": {},
   "outputs": [],
   "source": [
    "x_train"
   ]
  },
  {
   "cell_type": "code",
   "execution_count": null,
   "metadata": {},
   "outputs": [],
   "source": [
    "param_grid = {\n",
    "    'iterations': [i for i in range(40, 100, 15)],\n",
    "    'depth': [5, 7, 10, 15],\n",
    "    'learning_rate': [i for i in np.arange(0.15, 0.31, 0.01)],\n",
    "    'l2_leaf_reg': [i for i in np.arange(0.5, 21, 0.4)]\n",
    "}"
   ]
  },
  {
   "cell_type": "code",
   "execution_count": null,
   "metadata": {},
   "outputs": [],
   "source": [
    "model_catboost_1 = CatBoostRegressor(random_state= 42)"
   ]
  },
  {
   "cell_type": "code",
   "execution_count": null,
   "metadata": {},
   "outputs": [],
   "source": [
    "grid_search = RandomizedSearchCV(model_catboost_1, param_grid, cv=5, n_jobs= -1, scoring= 'neg_mean_absolute_error', verbose= 0)\n",
    "grid_search.fit(x_train, y_train)"
   ]
  },
  {
   "cell_type": "code",
   "execution_count": null,
   "metadata": {},
   "outputs": [],
   "source": [
    "grid_search.best_params_"
   ]
  },
  {
   "cell_type": "code",
   "execution_count": null,
   "metadata": {},
   "outputs": [],
   "source": [
    "best_catboost = grid_search.best_estimator_"
   ]
  },
  {
   "cell_type": "code",
   "execution_count": null,
   "metadata": {},
   "outputs": [],
   "source": [
    "y_pred = best_catboost.predict(x_validation)\n",
    "y_pred = np.power(10, y_pred)\n",
    "\n",
    "mean_absolute_error(y_validation, y_pred)"
   ]
  }
 ],
 "metadata": {
  "kernelspec": {
   "display_name": "Python 3",
   "language": "python",
   "name": "python3"
  },
  "language_info": {
   "codemirror_mode": {
    "name": "ipython",
    "version": 3
   },
   "file_extension": ".py",
   "mimetype": "text/x-python",
   "name": "python",
   "nbconvert_exporter": "python",
   "pygments_lexer": "ipython3",
   "version": "3.12.0"
  }
 },
 "nbformat": 4,
 "nbformat_minor": 2
}
